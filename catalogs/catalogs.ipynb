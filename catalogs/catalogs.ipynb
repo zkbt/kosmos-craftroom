{
 "cells": [
  {
   "attachments": {},
   "cell_type": "markdown",
   "metadata": {},
   "source": [
    "# How do we create catalogs? \n",
    "\n",
    "We're often both busy and sleepy while observing, so entering details of individual targets one-by-one is an easy way for mistakes to happen. To remedy, this we can make target catalogs, where we've done the hard work of getting precise coordinates ahead of time, and can just select a target at the click of a button during the actual night!"
   ]
  },
  {
   "cell_type": "code",
   "execution_count": 1,
   "metadata": {},
   "outputs": [],
   "source": [
    "from kosmoscraftroom.catalogs import *"
   ]
  },
  {
   "attachments": {},
   "cell_type": "markdown",
   "metadata": {},
   "source": [
    "## Make a catalog from a table of coordinates.\n",
    "\n",
    "We can make a catalog out of an astropy Table, as long as it a columns of `names` and one with `SkyCoord` objects for the coordinates."
   ]
  },
  {
   "cell_type": "code",
   "execution_count": null,
   "metadata": {},
   "outputs": [],
   "source": [
    "names = [\"A\", \"B\", \"C\"]\n",
    "coordinates = SkyCoord(ra=[1, 2, 3] * u.hourangle, dec=[-1, 0, 1] * u.deg)\n",
    "table = Table(dict(names=names, sky_coordinates=coordinates))\n",
    "table"
   ]
  },
  {
   "cell_type": "code",
   "execution_count": 3,
   "metadata": {},
   "outputs": [],
   "source": [
    "tiny = TUICatalog(\"random-tiny-test\")\n",
    "tiny.from_table(table)"
   ]
  },
  {
   "cell_type": "code",
   "execution_count": null,
   "metadata": {},
   "outputs": [],
   "source": [
    "tiny.table"
   ]
  },
  {
   "attachments": {},
   "cell_type": "markdown",
   "metadata": {},
   "source": [
    "## Make a catalog from a previous TUI catalog. "
   ]
  },
  {
   "cell_type": "markdown",
   "metadata": {},
   "source": [
    "There are some existing TUI catalogs floating around. We can load one into a TUI Catalog object, which might then be written out again or combined with other catalogs."
   ]
  },
  {
   "cell_type": "code",
   "execution_count": 5,
   "metadata": {},
   "outputs": [],
   "source": [
    "standards = TUICatalog(name=\"flux-calibrators\")\n",
    "standards.from_TUI(\"standards.tui\")"
   ]
  },
  {
   "cell_type": "code",
   "execution_count": null,
   "metadata": {},
   "outputs": [],
   "source": [
    "standards"
   ]
  },
  {
   "cell_type": "code",
   "execution_count": null,
   "metadata": {},
   "outputs": [],
   "source": [
    "standards.table"
   ]
  },
  {
   "attachments": {},
   "cell_type": "markdown",
   "metadata": {},
   "source": [
    "## Make a catalog from an `exoatlas` population.\n",
    "\n",
    "We can convert an `exoatlas` population, filtered down however we like, into a TUI catalog. "
   ]
  },
  {
   "cell_type": "code",
   "execution_count": null,
   "metadata": {},
   "outputs": [],
   "source": [
    "from exoatlas import *\n",
    "\n",
    "# define some populations\n",
    "e = TransitingExoplanets()\n",
    "e.update_values(\"SPECULOOS-3b\", distance=24.754 * u.pc)"
   ]
  },
  {
   "cell_type": "code",
   "execution_count": 9,
   "metadata": {},
   "outputs": [],
   "source": [
    "nearby = e[e.distance < 30 * u.pc]\n",
    "emission = e[e.emission_snr() > 20]\n",
    "reflection = e[e.reflection_snr() > 5]"
   ]
  },
  {
   "cell_type": "code",
   "execution_count": 10,
   "metadata": {},
   "outputs": [],
   "source": [
    "n = TUICatalog(\"nearby\")\n",
    "n.from_exoatlas(nearby)\n",
    "\n",
    "e = TUICatalog(\"emission\")\n",
    "e.from_exoatlas(emission)\n",
    "\n",
    "r = TUICatalog(\"reflection\")\n",
    "r.from_exoatlas(reflection)"
   ]
  },
  {
   "cell_type": "code",
   "execution_count": null,
   "metadata": {},
   "outputs": [],
   "source": [
    "n, e, r"
   ]
  },
  {
   "cell_type": "code",
   "execution_count": null,
   "metadata": {},
   "outputs": [],
   "source": [
    "n.table"
   ]
  },
  {
   "attachments": {},
   "cell_type": "markdown",
   "metadata": {},
   "source": [
    "## Write catalog files for TUI and humans.\n",
    "\n",
    "Let' s make a different TUI catalog for each of our sub-samples. By loading them separately into TUI, they can have different colors. "
   ]
  },
  {
   "cell_type": "code",
   "execution_count": null,
   "metadata": {},
   "outputs": [],
   "source": [
    "for x, c in zip([n, e, r, standards], [\"red\", \"orange\", \"yellow\", \"black\"]):\n",
    "    x.to_TUI(color=c)"
   ]
  },
  {
   "cell_type": "code",
   "execution_count": null,
   "metadata": {},
   "outputs": [],
   "source": [
    "!head nearby.tui"
   ]
  },
  {
   "attachments": {},
   "cell_type": "markdown",
   "metadata": {},
   "source": [
    "Now, let's make a human-friendly catalog that smooshes all these entries together and sorted by RA. Because the human friendly catalog will have the names of the original catalogs included as extra columns, we'll be able to figure where we should look in TUI to select each one."
   ]
  },
  {
   "cell_type": "code",
   "execution_count": null,
   "metadata": {},
   "outputs": [],
   "source": [
    "combined = n + e + r + standards\n",
    "combined.to_human_friendly()"
   ]
  },
  {
   "cell_type": "code",
   "execution_count": null,
   "metadata": {},
   "outputs": [],
   "source": [
    "!head nearby+emission+reflection+flux-calibrators.txt"
   ]
  },
  {
   "attachments": {},
   "cell_type": "markdown",
   "metadata": {},
   "source": [
    "Now, we can load the `.tui` catalogs into TUI, print out the `.txt` file (with a monospace font), and have a great night observing!"
   ]
  }
 ],
 "metadata": {
  "kernelspec": {
   "display_name": "chromatic",
   "language": "python",
   "name": "python3"
  },
  "language_info": {
   "codemirror_mode": {
    "name": "ipython",
    "version": 3
   },
   "file_extension": ".py",
   "mimetype": "text/x-python",
   "name": "python",
   "nbconvert_exporter": "python",
   "pygments_lexer": "ipython3",
   "version": "3.12.3"
  },
  "orig_nbformat": 4
 },
 "nbformat": 4,
 "nbformat_minor": 2
}
