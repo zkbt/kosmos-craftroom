{
 "cells": [
  {
   "attachments": {},
   "cell_type": "markdown",
   "metadata": {},
   "source": [
    "# How is the night going?\n",
    "\n",
    "In addition to our assiduously recorded observation logs during our observations, it can be useful to tools to go back and look at all the data that were gathered withn a given night. Here are a few options for looking quickly at lots of images!"
   ]
  },
  {
   "attachments": {},
   "cell_type": "markdown",
   "metadata": {},
   "source": [
    "## Use  `ds9`\n",
    "\n",
    "If you open a bunch of images in different frame of ds9, you can hold down the `<tab>` button to flip through them. To open lots of images, either...\n",
    " - Set ds9 to be your computer's default application for open `*.fits` files, and then select many files and double click on them. \n",
    " - From the command line run `ds9 *.fits` to open all FITS files in the current directory. \n",
    "\n",
    "Once you have many images in ds9, you can change the center, zoom, rotation, scale, limits, and colorbar on one image, and then use Frame > Match > ... to make all the other frames line up correspondingly. Common options might be `Scale and Limits` (linear vs log, and the upper lower limits), `Colorbar` (where the grayscale is centered), `Frame > Image` (center, zoom, rotation).\n"
   ]
  },
  {
   "attachments": {},
   "cell_type": "markdown",
   "metadata": {},
   "source": [
    "## Use `illumination` to animate a collection of images\n",
    "These animations rely on the `illumination` package, which has sat dormant for a while, b"
   ]
  },
  {
   "cell_type": "code",
   "execution_count": 1,
   "metadata": {},
   "outputs": [],
   "source": [
    "from illumination import *"
   ]
  },
  {
   "cell_type": "markdown",
   "metadata": {},
   "source": [
    "Let's watch what the guider saw all night:"
   ]
  },
  {
   "cell_type": "code",
   "execution_count": null,
   "metadata": {},
   "outputs": [],
   "source": [
    "path = \"/Users/zach/Data/APO/kcam/UT240911/*.fits\"\n",
    "s = FITS_Sequence(path, ext_image=0)\n",
    "i = imshowIllustration(data=s, cmapkw=dict(vmin=30, vmax=60000))\n",
    "i.animate(\"guider.mp4\", dpi=300)\n",
    "#i.plot()"
   ]
  },
  {
   "cell_type": "code",
   "execution_count": null,
   "metadata": {},
   "outputs": [],
   "source": [
    "from IPython.display import Video\n",
    "Video('guider.mp4')"
   ]
  },
  {
   "cell_type": "markdown",
   "metadata": {},
   "source": [
    "Let's watch all the science images associated with a particular target:"
   ]
  },
  {
   "cell_type": "code",
   "execution_count": null,
   "metadata": {},
   "outputs": [],
   "source": [
    "path = \"/Users/zach/Data/APO/Q3CU04/UT240911/kosmos/wide_slit_red_LTT1445.*.fits\"\n",
    "s = FITS_Sequence(path, ext_image=0)\n",
    "i = imshowIllustration(data=s, cmapkw=dict(vmin=3500, vmax=35000))\n",
    "i.animate(\"science.mp4\");"
   ]
  },
  {
   "cell_type": "code",
   "execution_count": null,
   "metadata": {},
   "outputs": [],
   "source": [
    "Video('science.mp4')"
   ]
  },
  {
   "cell_type": "markdown",
   "metadata": {},
   "source": [
    "Let's include a panel that zooms in on a particular part of the detector."
   ]
  },
  {
   "cell_type": "code",
   "execution_count": null,
   "metadata": {},
   "outputs": [],
   "source": [
    "path = \"/Users/zach/Data/APO/Q3CU04/UT240911/kosmos/wide_slit_red_LTT1445.*.fits\"\n",
    "s = FITS_Sequence(path, ext_image=0)\n",
    "i = SingleCameraWithZoomIllustration(\n",
    "    data=s,\n",
    "    cmapkw=dict(vmin=3500, vmax=35000),\n",
    "    zoomposition=(487, 512),\n",
    "    zoomsize=(100, 100),\n",
    ")\n",
    "i.animate(\"science-with-zoom.mp4\");"
   ]
  },
  {
   "cell_type": "code",
   "execution_count": null,
   "metadata": {},
   "outputs": [],
   "source": [
    "Video('science-with-zoom.mp4')"
   ]
  },
  {
   "cell_type": "markdown",
   "metadata": {},
   "source": [
    "Let's include some local zoom windows directly on top of the science image."
   ]
  },
  {
   "cell_type": "code",
   "execution_count": null,
   "metadata": {},
   "outputs": [],
   "source": [
    "i = imshowIllustration(data=s, cmapkw=dict(vmin=3500, vmax=10000))\n",
    "add_zoom(i, position=(487, 512), size=(50, 50), zoom=8, frame=\"image\")\n",
    "add_zoom(i, position=(487, 1024), size=(50, 50), zoom=8, frame=\"image\")\n",
    "add_zoom(i, position=(487, 1536), size=(50, 50), zoom=8, frame=\"image\")\n",
    "i.animate(\"science-with-lots-of-zoom.mp4\", dpi=200)"
   ]
  },
  {
   "cell_type": "code",
   "execution_count": null,
   "metadata": {},
   "outputs": [],
   "source": [
    "Video('science-with-lots-of-zoom.mp4')"
   ]
  }
 ],
 "metadata": {
  "kernelspec": {
   "display_name": "chromatic",
   "language": "python",
   "name": "python3"
  },
  "language_info": {
   "codemirror_mode": {
    "name": "ipython",
    "version": 3
   },
   "file_extension": ".py",
   "mimetype": "text/x-python",
   "name": "python",
   "nbconvert_exporter": "python",
   "pygments_lexer": "ipython3",
   "version": "3.12.3"
  },
  "orig_nbformat": 4
 },
 "nbformat": 4,
 "nbformat_minor": 2
}
