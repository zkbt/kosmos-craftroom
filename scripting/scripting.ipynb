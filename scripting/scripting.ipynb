{
 "cells": [
  {
   "attachments": {},
   "cell_type": "markdown",
   "metadata": {},
   "source": [
    "# How do we run scripts? \n",
    "\n",
    "Often there's some repetive set of exposures that we want to take, where it's hard to automate through the TUI GUI. At this point, it might help to generate and run a script. One obvious use for scripts is for taking calibrations; once you're done observing on sky, you might use a script to run through a bunch of default calibrations using the internal calibration lamps.\n"
   ]
  },
  {
   "cell_type": "code",
   "execution_count": 1,
   "metadata": {},
   "outputs": [],
   "source": [
    "from kosmoscraftroom.scripts import *"
   ]
  },
  {
   "attachments": {},
   "cell_type": "markdown",
   "metadata": {},
   "source": [
    "Create a `ScriptWriter` object to help make simple calibration scripts. \n",
    "\n",
    "- The `slits` and `dispersers` dictionaries define which slits/dispersers you want to calibrate, as well as the TUI drop-down menu positions for each. The dispersers are unlikely to change quickly, but the slits will probably change between different observing runs, so **be sure to check the slit positions are correct!**\n",
    "- The `binning` keyword indicates what (x,y)-pixel binning is happening, necessary to adjust exposure times relative to their unbinned suggestions. \n",
    "- The `prefix` keyword defines a prefix that will be added in front of each filename. If it includes a slash `/`, then files will appear in a new subdirectory."
   ]
  },
  {
   "cell_type": "code",
   "execution_count": null,
   "metadata": {},
   "outputs": [],
   "source": [
    "s = ScriptWriter(\n",
    "    slits={\"20-ctr\": 3, \"1.18-ctr\": 5},\n",
    "    dispersers={\"red\": 6, \"blue\": 3},\n",
    "    binning=[2, 2],\n",
    "    prefix=\"kosmos-calibrations/\",\n",
    ")"
   ]
  },
  {
   "attachments": {},
   "cell_type": "markdown",
   "metadata": {},
   "source": [
    "Now, let's take some calibration data: \n",
    "- `bias` showing the baseline readout level for the detector, including offsets between the readout amplifiers and structure near the detector edges. A sequence of biases can also be used to measure/confirm the readout noise.\n",
    "- `dark` showing the counts accumulated during a finite exposure, even without being illuminated by light. The average dark current on KOSMOS is low enough that darks are typically not necessary for any bright star observations. \n",
    "- `neon`, `argon`, `krypton` are internal arc lamps used for wavelength calibration, to determine which pixels are illuminated by which wavelengths \n",
    "- `quartz` are flat field observations to measure the pixel-to-pixel sensitivity variations of the detector, to determine variations in the slit size at different spatial positions, and to reveal the effects of detector fringing at red wavelengths\n",
    "\n",
    "Because the lamp exposures that actually shine line on the detector will depend on the slit and the disperser, the `.take_lamps` function will loop over all options for each included in the above `ScriptWriter` object definition."
   ]
  },
  {
   "cell_type": "code",
   "execution_count": null,
   "metadata": {},
   "outputs": [],
   "source": [
    "s.take_bias(n=10)\n",
    "s.take_dark(t=120, n=5)\n",
    "for lamp in [\"neon\", \"argon\", \"krypton\"]:\n",
    "    s.take_lamps(lamp, n=3)\n",
    "s.take_lamps(\"quartz\", n=10)\n",
    "s.take_bias(n=5)"
   ]
  },
  {
   "attachments": {},
   "cell_type": "markdown",
   "metadata": {},
   "source": [
    "We can `print` the script to look at it..."
   ]
  },
  {
   "cell_type": "code",
   "execution_count": null,
   "metadata": {},
   "outputs": [],
   "source": [
    "s.print()"
   ]
  },
  {
   "attachments": {},
   "cell_type": "markdown",
   "metadata": {},
   "source": [
    "...or we can copy the script to the clipboard, making it easy to paste into the TUI `Scripts > Run_Commands` window."
   ]
  },
  {
   "cell_type": "code",
   "execution_count": null,
   "metadata": {},
   "outputs": [],
   "source": [
    "s.copy()"
   ]
  },
  {
   "cell_type": "markdown",
   "metadata": {},
   "source": [
    "After pasting the script into `Run_Commands`, click `Start` to run through the commands one by one. The command currently being run will be underlined. TUI must remain open for the script to complete; if TUI closes, the current exposure series will likely finish, but the script will stop before going on to the next command."
   ]
  }
 ],
 "metadata": {
  "kernelspec": {
   "display_name": "Python 3 (ipykernel)",
   "language": "python",
   "name": "python3"
  },
  "language_info": {
   "codemirror_mode": {
    "name": "ipython",
    "version": 3
   },
   "file_extension": ".py",
   "mimetype": "text/x-python",
   "name": "python",
   "nbconvert_exporter": "python",
   "pygments_lexer": "ipython3",
   "version": "3.10.13"
  }
 },
 "nbformat": 4,
 "nbformat_minor": 2
}
